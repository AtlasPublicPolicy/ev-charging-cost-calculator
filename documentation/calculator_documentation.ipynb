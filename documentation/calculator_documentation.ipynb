{
 "cells": [
  {
   "attachments": {},
   "cell_type": "markdown",
   "metadata": {},
   "source": [
    "# Charging Cost Calculator Documentation\n",
    "This notebook documents the design and methodology of the Charging Cost Calculator. It is not meant for production use.\n",
    "to run the calculator with user input data and real rate data, use chargingCostCalculator.py\n",
    "\n",
    "\n",
    "This calculator models electricity costs for charging electric vehicles (or any general electricity use) based on two user inputs:\n",
    "* Hourly average energy use (in kWh)\n",
    "* Hourly peak energy use (which is the highest kW power draw across 4 15-minute intervals within that hour)\n",
    "\n",
    "The calculator provides simulated electrical costs for any or all rates tracked by OpenEI's Electricity Rate Database: https://apps.openei.org/USURDB/"
   ]
  },
  {
   "attachments": {},
   "cell_type": "markdown",
   "metadata": {},
   "source": [
    "## Dependencies\n",
    "The following libraries are required to run this analysis"
   ]
  },
  {
   "cell_type": "code",
   "execution_count": 4,
   "metadata": {},
   "outputs": [],
   "source": [
    "import numpy as np\n",
    "import pickle\n",
    "\n",
    "# internal libraries\n",
    "from lib.rate_parsing import rateProcess"
   ]
  },
  {
   "attachments": {},
   "cell_type": "markdown",
   "metadata": {},
   "source": [
    "## Data and Inputs\n",
    "Two Primary Inputs:\n",
    "* rate data (parsed from URDB JSON database extract)\n",
    "* energy and power use data (provided as user input)\n",
    "\n",
    "### Rate Data\n",
    "This script uses test case rates to validate it is working properly which are input here. Test case rates are defined in test_data.py and are read in from a pickle file here. test_data.py must be run before those rates are available for use. Test cases are dictionaries formatted the same as the parsed JSON files from URDB. In the main tool, this parsing is done in a preprocessing step so that all rate data is available for sequential calculations.\n",
    "\n",
    "Rate data is stored as a dictionary where each calculation input is stored as a separate key-value pair.\n",
    "\n",
    "### Energy and Power Data\n",
    "For demonstration and testing purposes we provide simple synthetic inputs that is that defined in test_data.py and are read in from a pickle file here. test_data.py must be run before the test power and energy inputs are available.\n",
    "\n",
    "In the main tool this is read in from an excel workbook. Users will be able to specify either a monthly or\n",
    "single load curve. However, the tool will always use a monthly load curve. single load curve will be repeated for each month."
   ]
  },
  {
   "cell_type": "code",
   "execution_count": 5,
   "metadata": {},
   "outputs": [],
   "source": [
    "# load in test rates data and test energy and power curve from \n",
    "# testing/test_data.pkl must run test_rates.py first to generate this file\n",
    "with open('testing/test_data.pkl', 'rb') as f:\n",
    "    tcTier = pickle.load(f)\n",
    "    tcTOU = pickle.load(f)\n",
    "    tcNRG = pickle.load(f)\n",
    "    tcPower = pickle.load(f)\n",
    "\n",
    "f.close()\n",
    "\n",
    "# process rates into analysis ready format using rate process function\n",
    "# rateProcess functions are in lib/rate_parsing.py\n",
    "tcTier = rateProcess(tcTier)\n",
    "tcTOU = rateProcess(tcTOU)\n"
   ]
  },
  {
   "attachments": {},
   "cell_type": "markdown",
   "metadata": {},
   "source": [
    "# Daily Charging Parameters\n",
    "What days of the week that vehicles charge affects modeled energy bills becuase charging on weekends is cheaper in many cases (where there are TOU rates).\n",
    "\n",
    "Users select how many days a week they charge their vehicles. At least one charging day is assumed to be a weekend day to account for likely priority for at least one weekend charging day in any given week. E.g., a vehicle that needs charging 5 days a week to cover normal weekday operations would likely have its Friday charge delayed until Saturday when costs are cheaper (though this assumes managed or at least scheduled charging). We ignore leap years.\n",
    "\n",
    "ex:\n",
    "* 4 charge days = 3 weekdays, 1 weekend\n",
    "* 5 charge days = 4 weekdays, 1 weekend\n",
    "* 6 charge days = 5 weekdays, 1 weekends\n",
    "\n",
    "The number of weekdays and weekends charged in each month are modeled as:\n",
    "* weekdays = (n...5)/7 * n days per month\n",
    "* weekends = (n...2)/7 (*) n days per month\n",
    "\n",
    "note that this creates fractional days"
   ]
  },
  {
   "cell_type": "code",
   "execution_count": 6,
   "metadata": {},
   "outputs": [],
   "source": [
    "\n",
    "# there are only 7 possible outputs (14 lists) from this so this may change to a\n",
    "# hardcoded lookup table in the future\n",
    "\n",
    "def daysMonth(chargeDays):\n",
    "    \"\"\" \n",
    "    Returns a nested list of weekdays/weekends in each month for a given \n",
    "    number of charge days (rounded to 2 sig digits)\n",
    "    \"\"\"\n",
    "    if chargeDays > 7:\n",
    "        raise ValueError('Charge days cannot be greater than 7')\n",
    "\n",
    "    days = [31,28,31,30,31,30,31,31,30,31,30,31]\n",
    "    weekdays = 5 if chargeDays > 5 else chargeDays - 1\n",
    "    weekends = 2 if chargeDays > 6 else 1\n",
    "\n",
    "    return [[np.round(days[i] * weekdays / 7, 2) for i in range(12)], # refactor\n",
    "            [np.round(days[i] * weekends / 7, 2) for i in range(12)]]\n"
   ]
  },
  {
   "cell_type": "code",
   "execution_count": 18,
   "metadata": {},
   "outputs": [],
   "source": [
    "# test function and return results for use below.\n",
    "days = 5\n",
    "daylist = daysMonth(days)\n",
    "\n",
    "# ------------------------------------------------------------------------------\n",
    "\n",
    "# for easier testing of the calculator, we simplify days per month. This input\n",
    "# is used in the rest of this notebook\n",
    "daylist = [[8,8,8,8,8,8,8,8,8,8,8,8],\n",
    "           [2,2,2,2,2,2,2,2,2,2,2,2]]"
   ]
  },
  {
   "attachments": {},
   "cell_type": "markdown",
   "metadata": {},
   "source": [
    "### Energy/Power preprocessing functions\n",
    "\n",
    "These values are repeatedly used so we precalculate them.\n",
    "\n",
    "* Summed Energy - monthly energy use based on the number of days charged per month. This energy use value is used for calculating tiered energy charges and to create per-kWh energy use.\n",
    "\n",
    "* Max Power - Max power per month used for flat demand charge calculation"
   ]
  },
  {
   "cell_type": "code",
   "execution_count": 8,
   "metadata": {},
   "outputs": [],
   "source": [
    "\n",
    "def nrgUse(nrg, daysMonth):\n",
    "    \"\"\"\n",
    "    returns a list of monthly energy use in kWh based on a energy use input and \n",
    "    daysMonth list\n",
    "    \"\"\"\n",
    "    use = [sum(i) for i in nrg]\n",
    "\n",
    "    # add daysMonth[0] (weekday) and daysMonth[1] (weekend) to get total days\n",
    "    # in month\n",
    "    nDays = np.nansum(daysMonth, axis=0).tolist()\n",
    "\n",
    "    # pairwise multiply nrgUse and nDays to get total monthly energy use \n",
    "    # for each month\n",
    "    return [use[x] * nDays[x] for x in range(12)]\n",
    "\n",
    "\n",
    "def getMaxPower(power):\n",
    "    # was more complicated but is now a single line function\n",
    "        return [np.max(power) for i in range(12)]\n",
    "\n"
   ]
  },
  {
   "cell_type": "code",
   "execution_count": 9,
   "metadata": {},
   "outputs": [
    {
     "name": "stdout",
     "output_type": "stream",
     "text": [
      "[600, 600, 600, 600, 600, 600, 600, 600, 600, 600, 600, 600]\n",
      "[4, 4, 4, 4, 4, 4, 4, 4, 4, 4, 4, 4]\n"
     ]
    }
   ],
   "source": [
    "\n",
    "# run to test functions and create variables for later use\n",
    "useNRG = nrgUse(tcNRG, daylist)\n",
    "maxPower = getMaxPower(tcPower)\n",
    "\n",
    "print(useNRG)\n",
    "print(maxPower)\n"
   ]
  },
  {
   "attachments": {},
   "cell_type": "markdown",
   "metadata": {},
   "source": [
    "# Calculate Tiered Energy Rate Costs\n",
    "The functions in this section are all used for tiered rate data prep and calculation. Tiered energy rates base the cost of energy depending on how much energy is consumed per month.\n",
    "\n",
    "Control flow of the main script determines if a given rate is a tiered rate (opposed to TOU) and directs calculation to the operations in this function."
   ]
  },
  {
   "attachments": {},
   "cell_type": "markdown",
   "metadata": {},
   "source": [
    "## Tiered Energy Cost Calculator\n",
    "This function calculates the cost of energy for a tiered rate in a given month using \n",
    "* the total energy amount in kWh\n",
    "* rates corresponding to each tier\n",
    "* costs of energy in each tier\n",
    "\n",
    "The calculation method assumes that tiered rates are implemented on a marginal basis. (i.e. only the portion of energy that falls within a tier's min-max range is assessed at that rate). \n",
    "\n",
    "For example:\n",
    "A user that uses 100 kWh per month with a 10kWh tier max for tier 0 and a 50kWh max for tier 1, with per kwh costs of $0.10, $0.15 and $0.20 in tiers 0,1,2 would be charged:\n",
    "\n",
    "0.10*(10-0) + 0.15*(50-10) + 0.20*(100-50) = 1 + 6 + 10 = 17 ($17)\n",
    "\n",
    "*Note: while this is a common way of implementing tiered rates, not all tiered rates work this way. However, we do not have enough information to apply different calculations on a per rate basis.*"
   ]
  },
  {
   "cell_type": "code",
   "execution_count": 10,
   "metadata": {},
   "outputs": [],
   "source": [
    "\n",
    "def tierCalc(unit, costTier, maxVal):\n",
    "    \"\"\"\n",
    "    Calculates cost for a given tier structure AND \n",
    "    energy/power use. \n",
    "\n",
    "    this function is used in the nrgTierCalc function below to calculate cost of \n",
    "    tiered energy rates and is also used for tiered flat demand charges.\n",
    "\n",
    "    unit: energy or power use\n",
    "    costTier: tiered rate structure\n",
    "    maxVal: max value for each tier\n",
    "\n",
    "    output: list of cost for each month\n",
    "    \"\"\"\n",
    "\n",
    "    # generate containers\n",
    "    unitVal = unit\n",
    "    cost = 0\n",
    "\n",
    "    # loop through costTier to calculate cost\n",
    "    for i in range(len(costTier)):\n",
    "\n",
    "        # define upper and lower values\n",
    "        lower = 0 if i == 0 else maxVal[i-1]\n",
    "        upper = maxVal[i] if i < len(maxVal) else unit + 1\n",
    "        \n",
    "        # if eng is within tier margin calculate cost on unitVal and tier\n",
    "        # and break loop\n",
    "        if unit > lower and unit <= upper:\n",
    "            cost += (unitVal * costTier[i])\n",
    "            break\n",
    "        \n",
    "        # otherwise add in full tier cost and subtract amount of energy\n",
    "        # accounted for from unitVal and continue loop\n",
    "        elif unit > upper:\n",
    "            band = upper - lower\n",
    "            cost += (band * costTier[i])\n",
    "            unitVal -= band\n",
    "\n",
    "    return cost\n",
    "\n",
    "def nrgTierCalc(nrg, tierRate, tierMax):\n",
    "    \"\"\"\n",
    "    simple list comprehension to calculate energy cost for each month based\n",
    "    on tiered rate structure and energy use using the tierCalc function\n",
    "    \"\"\"\n",
    "    return [tierCalc(nrg[i], tierRate[i], tierMax[i]) for i in range(12)]\n",
    "\n",
    "            \n"
   ]
  },
  {
   "attachments": {},
   "cell_type": "markdown",
   "metadata": {},
   "source": [
    "### Calculating expected output value for Tiered Energy Cost\n",
    "\n",
    "* 600kWh of electricity per month\n",
    "* period 0 (months 0-5)\n",
    "    * cost (3,4,5)\n",
    "    * max (10,20)\n",
    "* period 1 (months 6-11)\n",
    "    * cost (2,3,4)\n",
    "    * max (20,30) \n",
    "\n",
    "Period 0 cost = 3*(10-0) + 4*(20-10) + 5*(600 - 20)  \n",
    "Period 1 cost  = 2*(20-0) + 3*(30-20) + 4*(600 - 30)\n",
    "\n",
    "output should be list of 12 split evenly between p0 and p1"
   ]
  },
  {
   "cell_type": "code",
   "execution_count": 19,
   "metadata": {},
   "outputs": [],
   "source": [
    "p0 = 3*(10-0) + 4*(20-10) + 5*(600 - 20)\n",
    "p1 = 2*(20-0) + 3*(30-20) + 4*(600 - 30)\n",
    "\n",
    "expectedVal = [p0, p0, p0, p0, p0, p0, p1, p1, p1, p1, p1, p1]"
   ]
  },
  {
   "attachments": {},
   "cell_type": "markdown",
   "metadata": {},
   "source": [
    "### Run and Test Tiered Energy Cost Calculator"
   ]
  },
  {
   "cell_type": "code",
   "execution_count": 20,
   "metadata": {},
   "outputs": [
    {
     "name": "stdout",
     "output_type": "stream",
     "text": [
      "[2970, 2970, 2970, 2970, 2970, 2970, 2350, 2350, 2350, 2350, 2350, 2350]\n",
      "[2970, 2970, 2970, 2970, 2970, 2970, 2350, 2350, 2350, 2350, 2350, 2350]\n",
      "calculator output equal to expected value, test passed\n"
     ]
    }
   ],
   "source": [
    "\n",
    "# set values based on tiered rate structure test data\n",
    "rateVals = tcTier['nrgTierRates']\n",
    "maxVals = tcTier['nrgTierMax']\n",
    "\n",
    "# run function (save output for later use)\n",
    "tieredNRGcost = nrgTierCalc(useNRG, rateVals, maxVals)\n",
    "\n",
    "# test results\n",
    "print(tieredNRGcost)\n",
    "print(expectedVal)\n",
    "if tieredNRGcost == expectedVal:\n",
    "    print('calculator output equal to expected value, test passed')\n",
    "else:\n",
    "    print('calculator output not equal to expected value, test failed')"
   ]
  },
  {
   "attachments": {},
   "cell_type": "markdown",
   "metadata": {},
   "source": [
    "# Calculate TOU Energy Costs\n",
    "TOU energy rates base the cost of energy depending on when (by hour, weekday/weekend, and month) the energy is consumed. \n",
    "\n",
    "Control flow of the main script determines if a given rate is a TOU rate (opposed to tiered) and directs calculation to the operations in this section.\n",
    "\n",
    "To calculate TOU cost the script:\n",
    "* Calculates the Hadamard Product (pairwise matrix multiplication) of the 12X24 matrices of TOU rates and energy use\n",
    "* Sum costs into single day (weekend and weekday) energy costs\n",
    "* multiply those weekend and weekday energy costs by the number of days for each within the month (as determined by operating days)"
   ]
  },
  {
   "cell_type": "code",
   "execution_count": 13,
   "metadata": {},
   "outputs": [],
   "source": [
    "def nrgTOUCalc(nrg, touWeekday, touWeekend, daysInMonth):\n",
    "    \"\"\"\n",
    "    Calculates energy cost for a given TOU structure using a\n",
    "    monthly energy use input.\n",
    "\n",
    "    expects input of 12 x 2 x 24 array for touSchedule and 12 x 24 array for nrg\n",
    "    \"\"\"\n",
    "\n",
    "    touSchedule = [touWeekday, touWeekend] # make array\n",
    "\n",
    "    # set of array calculations to calculate energy cost\n",
    "    costArr = np.multiply(nrg, touSchedule)\n",
    "    costArr = np.nansum(costArr, axis=2)\n",
    "\n",
    "    # multiply by days in month (weekend and weekday)\n",
    "    costArr = np.multiply(costArr, daysInMonth)\n",
    "\n",
    "    # add weekend and weekday costs\n",
    "    costArr = np.nansum(costArr, axis=0).tolist()\n",
    "    \n",
    "    return costArr\n"
   ]
  },
  {
   "attachments": {},
   "cell_type": "markdown",
   "metadata": {},
   "source": [
    "# Testing\n",
    "\n",
    "### Calculating expected output value for Tiered Energy Cost\n",
    "\n",
    "* weekend and weekday rates alternate months with these 24 hour rate periods:   \n",
    "  [2, 2, 2, 2, 2, 2, 2, 2, 2, 2, 2, 2, 4, 4, 4, 4, 4, 4, 4, 4, 4, 4, 4, 4],  \n",
    "  [2, 2, 2, 2, 2, 2, 2, 2, 2, 2, 2, 2, 6, 6, 6, 6, 6, 6, 6, 6, 6, 6, 6, 6],  \n",
    "* daily energy use for weekdays and weekends are:\n",
    "  [1, 1, 1, 1, 1, 1, 2, 2, 2, 2, 2, 2, 3, 3, 3, 3, 3, 3, 4, 4, 4, 4, 4, 4]\n",
    "* 10 days per month (8 weekday and 2 weekend)\n",
    "\n",
    "ADD EXPLANATION\n",
    "\n",
    "monthly energy costs will be:  \n",
    "period 0 = ((1\\*2\\*6) + (2\\*2\\*6) + (3\\*4\\*6) + (4\\*4\\*6)) * 10  \n",
    "period 1 = ((1\\*2\\*6) + (2\\*2\\*6) + (3\\*6\\*6) + (4\\*6\\*6)) * 10\n"
   ]
  },
  {
   "cell_type": "code",
   "execution_count": 21,
   "metadata": {},
   "outputs": [],
   "source": [
    "p0 = ((1*2*6) + (2*2*6) + (3*4*6) + (4*4*6)) * 10\n",
    "p1 = ((1*2*6) + (2*2*6) + (3*6*6) + (4*6*6)) * 10\n",
    "\n",
    "expectedVal = [p0, p1, p0, p1, p0, p1, p0, p1, p0, p1, p0, p1]\n"
   ]
  },
  {
   "cell_type": "code",
   "execution_count": 22,
   "metadata": {},
   "outputs": [
    {
     "name": "stdout",
     "output_type": "stream",
     "text": [
      "[2040, 2880, 2040, 2880, 2040, 2880, 2040, 2880, 2040, 2880, 2040, 2880]\n",
      "[2040, 2880, 2040, 2880, 2040, 2880, 2040, 2880, 2040, 2880, 2040, 2880]\n",
      "calculator output equal to expected value, test passed\n"
     ]
    }
   ],
   "source": [
    "# set inputs\n",
    "touWeekday = tcTOU['nrgTOUWkdRates']\n",
    "touWeekend = tcTOU['nrgTOUWkeRates']\n",
    "\n",
    "# run function (save output for later use)\n",
    "touNRGcost = nrgTOUCalc(tcNRG, touWeekday, touWeekend, daylist)\n",
    "\n",
    "print(touNRGcost)\n",
    "print(expectedVal)\n",
    "if touNRGcost == expectedVal:\n",
    "    print('calculator output equal to expected value, test passed')\n",
    "else:\n",
    "    print('calculator output not equal to expected value, test failed')"
   ]
  },
  {
   "attachments": {},
   "cell_type": "markdown",
   "metadata": {},
   "source": [
    "# Calculate Flat Demand charges\n",
    "This function calculates the cost of power for a flat (non-time-based) demand charge in a given month using \n",
    "* the max power amount in kW\n",
    "* rates corresponding to each tier (or single rate)\n",
    "* max value in each tier (or none)\n",
    "\n",
    "The calculation method assumes that tiered kWh rates are implemented on a marginal basis. (i.e. only the portion of power that falls within a tier's min-max range is assessed at that rate). \n",
    "\n",
    "For example:\n",
    "A user that uses 100 kW peak in a month with a 10kW tier max for tier 0 and a 50kW max for tier 1, with per kwh costs of $10, $15 and $20 in tiers 0,1,2 would be charged:  \n",
    "10*(10-0) + 15*(50-10) + 20*(100-50) = 100 + 600 + 1000 = 1700 ($1,700)\n",
    "\n",
    "Non-tiered rates are simply calculated as max kW times set rate. e.g. $10/kW * 100kW = $1,000\n",
    "\n",
    "Flat demand charges might change seasonally, this script accomodates differnt demand charges for each month. *Note that this script does not support ratcheting demand charges.*\n",
    "\n",
    "Control flow of the main script determines if a rate has a flat demand charge and then directs the script to this set of functions\n"
   ]
  },
  {
   "cell_type": "code",
   "execution_count": 26,
   "metadata": {},
   "outputs": [],
   "source": [
    "def flatDemandCalc(rate, mx, maxPower):\n",
    "    \"\"\"\n",
    "    Calculates flat demand charges for a given flat demand schedule\n",
    "    using a monthly max power input.\n",
    "\n",
    "    control flow is based on whether or not there is a tiered rate structure \n",
    "    in the rate input\n",
    "\n",
    "    rate: flat demand rate structure\n",
    "    mx: max values for each tier\n",
    "    maxPower: max power for each month\n",
    "    \"\"\"\n",
    "    # if max is false (empty) then there is a flat rate and the function \n",
    "    # calculates that \n",
    "    if mx == False:\n",
    "        print('flat rate')\n",
    "        # flatten rate[0] to remove nested lists\n",
    "        xsublist = [x for y in rate for x in y]\n",
    "        # return maxPower * rate for each month\n",
    "        return (np.multiply(maxPower, xsublist)\n",
    "                .tolist())\n",
    "    \n",
    "    # if rate[1][0] (max vals) is not empty, then there is a tiered rate and the\n",
    "    # function calls the tierCalc function to calculate the demand charge for \n",
    "    # each month\n",
    "    else:\n",
    "        print('tiered rate')\n",
    "        return [tierCalc(maxPower[i], rate[i], mx[i]) for i in range(12)]\n"
   ]
  },
  {
   "attachments": {},
   "cell_type": "markdown",
   "metadata": {},
   "source": [
    "# Testing\n",
    "\n",
    "### Calculating expected output value for Flat Demand Charge\n",
    "This function calculates both tiered and non-tiered charges\n",
    "\n",
    "#### tiered\n",
    "* max power 4kW\n",
    "* period 0 (months 0-5)\n",
    "    * cost (2,3,4)\n",
    "    * max (1,2)\n",
    "* period 1 (months 6-11)\n",
    "    * cost (3,4,5)\n",
    "    * max (2,3) \n",
    "\n",
    "Period 0 cost = 2*(1-0) + 3*(2-1) + 4*(4-2)  \n",
    "Period 1 cost = 3*(2-0) + 4*(3-2) + 5*(4-3)\n",
    "\n",
    "output should be list of 12 split evenly between p0 and p1\n",
    "\n",
    "#### non-tiered\n",
    "* max power 4kW\n",
    "* period 0 (months 0-5)\n",
    "    * cost (2)\n",
    "* period 1 (months 6-11)\n",
    "    * cost (3)\n",
    "\n",
    "period 0 = 2\\*4 = 8  \n",
    "period 1 = 3\\*4 = 12\n",
    "\n",
    "output should be list of 12 split evenly between p0 and p1"
   ]
  },
  {
   "cell_type": "code",
   "execution_count": 27,
   "metadata": {},
   "outputs": [],
   "source": [
    "# tiered flat demand expected value\n",
    "\n",
    "p0 = 2*(1-0) + 3*(2-1) + 4*(4-2)\n",
    "p1 = 3*(2-0) + 4*(3-2) + 5*(4-3)\n",
    "\n",
    "expectedValTier = [p0, p0, p0, p0, p0, p0, p1, p1, p1, p1, p1, p1]\n",
    "\n",
    "\n",
    "# untiered expected value\n",
    "\n",
    "p0 = 2*4\n",
    "p1 = 3*4 \n",
    "\n",
    "expectedVal = [p0, p0, p0, p0, p0, p0, p1, p1, p1, p1, p1, p1]"
   ]
  },
  {
   "cell_type": "code",
   "execution_count": 28,
   "metadata": {},
   "outputs": [
    {
     "name": "stdout",
     "output_type": "stream",
     "text": [
      "tiered rate\n",
      "[13, 13, 13, 13, 13, 13, 15, 15, 15, 15, 15, 15]\n",
      "[13, 13, 13, 13, 13, 13, 15, 15, 15, 15, 15, 15]\n",
      "calculator output equal to expected value, test passed\n",
      "\n",
      "flat rate\n",
      "[8, 8, 8, 8, 8, 8, 12, 12, 12, 12, 12, 12]\n",
      "[8, 8, 8, 8, 8, 8, 12, 12, 12, 12, 12, 12]\n",
      "calculator output equal to expected value, test passed\n"
     ]
    }
   ],
   "source": [
    "\n",
    "# ----------------------test tiered rate (in tcTier) -------------------------\n",
    "# set input\n",
    "mx = tcTier['demandFlatMax']\n",
    "rate = tcTier['demandFlatRates']\n",
    "\n",
    "# run function (save output for later use)\n",
    "flatDemandTier = flatDemandCalc(rate, mx, maxPower)\n",
    "\n",
    "print(flatDemandTier)\n",
    "print(expectedValTier)\n",
    "if flatDemandTier == expectedValTier:\n",
    "    print('calculator output equal to expected value, test passed\\n')\n",
    "else:\n",
    "    print('calculator output not equal to expected value, test failed\\n')\n",
    "\n",
    "\n",
    "# ----------------------test flat rate (in tcTOU) -----------------------------\n",
    "# set input\n",
    "mx = tcTOU['demandFlatMax']\n",
    "rate = tcTOU['demandFlatRates']\n",
    "\n",
    "# run function (save output for later use)\n",
    "FlatDemand = flatDemandCalc(rate, mx, maxPower)\n",
    "\n",
    "print(FlatDemand)\n",
    "print(expectedVal)\n",
    "if FlatDemand == expectedVal:\n",
    "    print('calculator output equal to expected value, test passed')\n",
    "else:\n",
    "    print('calculator output not equal to expected value, test failed')\n"
   ]
  },
  {
   "attachments": {},
   "cell_type": "markdown",
   "metadata": {},
   "source": [
    "# Calculate TOU demand charge\n",
    "\n",
    "This function calculates the cost of power for a TOU demand charge in each month\n",
    "* hourly max power in kW\n",
    "* rates corresponding to each hour\n",
    "\n",
    "TOU demand charges are assessed against the highest power in each period of demand charges for each period in each month (note that some TOU demand charges charge by day rather than month, however the script does not support those rates)\n",
    "\n",
    "For example: \n",
    "if the each day in the month is split between two periods with the first (am) having a charge of $10/kW and pm having a charge of $20/kW  \n",
    "and the max monthly power use in am is 10kW and the max monthly power in pm is 20kW then the total TOU demand charge for the month would be:  \n",
    "10\\*10 + 20\\*20 = 100 + 400 = 500 ($500)\n",
    "\n",
    " *Note that this script does not support ratcheting demand charges.*\n",
    "\n",
    "Control flow of the main script determines if a rate has a flat demand charge and then directs the script to this set of functions"
   ]
  },
  {
   "cell_type": "code",
   "execution_count": 32,
   "metadata": {},
   "outputs": [],
   "source": [
    "def demandTOUCalc(rate, power):\n",
    "  '''\n",
    "  takes in a 12 x 24 array for rate and a 12 x 24 array for power\n",
    "  and calculates the demand charge for each month\n",
    "\n",
    "  rate: demand rate structure\n",
    "  power: hourly power for each month\n",
    "  '''\n",
    "\n",
    "  # get unique values in rate (these are the periods)\n",
    "  rateU = [list(set(i)) for i in rate]\n",
    "    \n",
    "  # get max power for each period (complicated list comprehension to get\n",
    "  # max power for each period across all 12 months)\n",
    "  maxPower = [[max(power[z][i] for i in range(24) if rate[z][i] == x)\n",
    "                  for x in rateU[z]] \n",
    "                    for z in range(len(rateU))]\n",
    "                    \n",
    "  return [sum(maxPower[n][i] * rateU[n][i] for i in range(len(rateU[n])))\n",
    "             for n in range(12)]"
   ]
  },
  {
   "attachments": {},
   "cell_type": "markdown",
   "metadata": {},
   "source": [
    "## Testing\n",
    "\n",
    "### Calculating expected output value for TOU Demand Charge\n",
    "\n",
    "* power input is  \n",
    "  [1, 1, 1, 1, 1, 1, 4, 4, 4, 4, 4, 4, 3, 3, 3, 3, 3, 3, 2, 2, 2, 2, 2, 2]\n",
    "* rate input alternates between the following two lists  \n",
    "  [0, 0, 0, 0, 0, 0, 0, 0, 0, 0, 0, 0, 3, 3, 3, 3, 3, 3, 3, 3, 3, 3, 3, 3]  \n",
    "  [0, 0, 0, 0, 0, 0, 0, 0, 0, 0, 0, 0, 5, 5, 5, 5, 5, 5, 5, 5, 5, 5, 5, 5]\n",
    "\n",
    "period 0 = max(1, 1, 1, 1, 1, 1, 4, 4, 4, 4, 4, 4) * 0 + max(3, 3, 3, 3, 3, 3, 2, 2, 2, 2, 2, 2) * 3 = 0 + 9 = 9  \n",
    "period 1 = max(1, 1, 1, 1, 1, 1, 4, 4, 4, 4, 4, 4) * 0 + max(3, 3, 3, 3, 3, 3, 2, 2, 2, 2, 2, 2) * 5 = 0 + 15 = 15   \n",
    "\n",
    "output should be list of 12 alternating between p0 and p1"
   ]
  },
  {
   "cell_type": "code",
   "execution_count": 31,
   "metadata": {},
   "outputs": [],
   "source": [
    "p0 = np.max([1, 1, 1, 1, 1, 1, 4, 4, 4, 4, 4, 4]) * 0 + np.max([3, 3, 3, 3, 3, 3, 2, 2, 2, 2, 2, 2]) * 3\n",
    "p1 = np.max([1, 1, 1, 1, 1, 1, 4, 4, 4, 4, 4, 4]) * 0 + np.max([3, 3, 3, 3, 3, 3, 2, 2, 2, 2, 2, 2]) * 5\n",
    "\n",
    "expectedVal = [p0, p1, p0, p1, p0, p1, p0, p1, p0, p1, p0, p1]\n"
   ]
  },
  {
   "cell_type": "code",
   "execution_count": 33,
   "metadata": {},
   "outputs": [
    {
     "name": "stdout",
     "output_type": "stream",
     "text": [
      "[9, 15, 9, 15, 9, 15, 9, 15, 9, 15, 9, 15]\n",
      "[9, 15, 9, 15, 9, 15, 9, 15, 9, 15, 9, 15]\n",
      "calculator output equal to expected value, test passed\n"
     ]
    }
   ],
   "source": [
    "rate = tcTOU['demandTOUwkdRates']\n",
    "power = tcPower\n",
    "\n",
    "touDemand = demandTOUCalc(rate, power)\n",
    "\n",
    "print(touDemand)\n",
    "print(expectedVal)\n",
    "if touDemand == expectedVal:\n",
    "    print('calculator output equal to expected value, test passed')\n",
    "else:\n",
    "    print('calculator output not equal to expected value, test failed')\n"
   ]
  }
 ],
 "metadata": {
  "kernelspec": {
   "display_name": "Python 3",
   "language": "python",
   "name": "python3"
  },
  "language_info": {
   "codemirror_mode": {
    "name": "ipython",
    "version": 3
   },
   "file_extension": ".py",
   "mimetype": "text/x-python",
   "name": "python",
   "nbconvert_exporter": "python",
   "pygments_lexer": "ipython3",
   "version": "3.10.6"
  },
  "orig_nbformat": 4
 },
 "nbformat": 4,
 "nbformat_minor": 2
}
